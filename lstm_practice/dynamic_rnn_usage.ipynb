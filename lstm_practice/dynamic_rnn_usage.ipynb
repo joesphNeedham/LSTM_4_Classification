{
 "cells": [
  {
   "cell_type": "code",
   "execution_count": null,
   "metadata": {
    "collapsed": true
   },
   "outputs": [],
   "source": [
    "\"\"\"\n",
    "  # create a BasicRNNCell\n",
    "  rnn_cell = tf.nn.rnn_cell.BasicRNNCell(hidden_size)\n",
    "\n",
    "  # 'outputs' is a tensor of shape [batch_size, max_time, cell_state_size]\n",
    "\n",
    "  # defining initial state（定义初始状态，只要定义batch_size，设置dtype）\n",
    "  initial_state = rnn_cell.zero_state(batch_size, dtype=tf.float32)\n",
    "\n",
    "  # 'state' is a tensor of shape [batch_size, cell_state_size]\n",
    "  outputs, state = tf.nn.dynamic_rnn(rnn_cell, input_data,\n",
    "                                     initial_state=initial_state,\n",
    "                                     dtype=tf.float32) \n",
    "                                     注意设置dtype\n",
    "\n",
    "  ```\n",
    "  创建多层LSTM方法：\n",
    "  # create 2 LSTMCells\n",
    "  rnn_layers = [tf.nn.rnn_cell.LSTMCell(size) for size in [128, 256]]\n",
    "\n",
    "  # create a RNN cell composed sequentially of a number of RNNCells\n",
    "  multi_rnn_cell = tf.nn.rnn_cell.MultiRNNCell(rnn_layers)\n",
    "\n",
    "  # 'outputs' is a tensor of shape [batch_size, max_time, 256]\n",
    "  # 'state' is a N-tuple where N is the number of LSTMCells containing a\n",
    "  # tf.contrib.rnn.LSTMStateTuple for each cell\n",
    "  outputs, state = tf.nn.dynamic_rnn(cell=multi_rnn_cell,\n",
    "                                     inputs=data,\n",
    "                                     dtype=tf.float32)\n",
    "  ```\n",
    "  \n",
    "  备注;\n",
    "  1.outputs与state的关系：\n",
    "    ·state是个nametuple \n",
    "    ·大多数情况下，outputs[:-1] 等于state.h，但是如果一个句子在某个时刻对应的输入为0（可能由于句子的长度过短导致），那么state会将上一时刻的state\n",
    "    向量作为其最终的时刻的输出。而output则会保留输出为0的结果。\n",
    "    · outputs的维度[bactch_size,time_step,state_size]\n",
    "    · state.c代表每个句子在其所有的时间步长结束后，所对应的状态向量\n",
    "    · 注意多个时间步长的unrolling lstm仅仅代表的是对一个句子的处理。\n",
    "    \n",
    "    \n",
    "\"\"\""
   ]
  }
 ],
 "metadata": {
  "kernelspec": {
   "display_name": "Python 2",
   "language": "python",
   "name": "python2"
  },
  "language_info": {
   "codemirror_mode": {
    "name": "ipython",
    "version": 2
   },
   "file_extension": ".py",
   "mimetype": "text/x-python",
   "name": "python",
   "nbconvert_exporter": "python",
   "pygments_lexer": "ipython2",
   "version": "2.7.6"
  }
 },
 "nbformat": 4,
 "nbformat_minor": 0
}
